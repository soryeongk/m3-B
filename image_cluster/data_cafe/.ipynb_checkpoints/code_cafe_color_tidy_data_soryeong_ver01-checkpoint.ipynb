{
 "cells": [
  {
   "cell_type": "code",
   "execution_count": 1,
   "metadata": {},
   "outputs": [],
   "source": [
    "import cv2\n",
    "import matplotlib.pyplot as plt\n",
    "import matplotlib.image as mpimg\n",
    "import pandas as pd\n",
    "import numpy as np\n",
    "from sklearn.cluster import KMeans\n",
    "import scipy.misc"
   ]
  },
  {
   "cell_type": "code",
   "execution_count": 2,
   "metadata": {},
   "outputs": [
    {
     "data": {
      "text/plain": [
       "'\\n출처\\nhttps://github.com/inyl/my_notebook/blob/master/open_cv/image_color_cluster.ipynb\\nhttps://www.pyimagesearch.com/2014/05/26/opencv-python-k-means-color-clustering/\\n'"
      ]
     },
     "execution_count": 2,
     "metadata": {},
     "output_type": "execute_result"
    }
   ],
   "source": [
    "'''\n",
    "출처\n",
    "https://github.com/inyl/my_notebook/blob/master/open_cv/image_color_cluster.ipynb\n",
    "https://www.pyimagesearch.com/2014/05/26/opencv-python-k-means-color-clustering/\n",
    "'''"
   ]
  },
  {
   "cell_type": "code",
   "execution_count": 3,
   "metadata": {},
   "outputs": [],
   "source": [
    "def plot_colors(hist, centroids):\n",
    "    '''\n",
    "    initialize the bar chart representing the relative frequency of each of the colors\n",
    "    각 색의 빈도를 나타내는 바 차트를 초기화\n",
    "    '''\n",
    "    bar = np.zeros((50, 300, 3), dtype=\"uint8\")\n",
    "    startX = 0\n",
    "\n",
    "    # loop over the percentage of each cluster and the color of each cluster\n",
    "    for (percent, color) in zip(hist, centroids):\n",
    "        # plot the relative percentage of each cluster\n",
    "        endX = startX + (percent * 300)\n",
    "        cv2.rectangle(bar, (int(startX), 0), (int(endX), 50),\n",
    "                      color.astype(\"uint8\").tolist(), -1)\n",
    "        startX = endX\n",
    "\n",
    "    # return the bar chart\n",
    "    return bar"
   ]
  },
  {
   "cell_type": "code",
   "execution_count": 4,
   "metadata": {},
   "outputs": [],
   "source": [
    "def centroid_histogram(clt):\n",
    "    '''\n",
    "    # grab the number of different clusters and create a histogram\n",
    "    히스토그램 형식으로 색을 반환\n",
    "    based on the number of pixels assigned to each cluster\n",
    "    각 클러스터의 픽셀의 숫자를 기반으로 함\n",
    "    '''\n",
    "    numLabels = np.arange(0, len(np.unique(clt.labels_)) + 1)\n",
    "    (hist, _) = np.histogram(clt.labels_, bins=numLabels)\n",
    "\n",
    "    # normalize the histogram, such that it sums to one\n",
    "    hist = hist.astype(\"float\")\n",
    "    hist /= hist.sum()  # hist = hist/hist.sum()\n",
    "\n",
    "    # return the histogram\n",
    "    return hist"
   ]
  },
  {
   "cell_type": "code",
   "execution_count": 5,
   "metadata": {},
   "outputs": [],
   "source": [
    "def image_color_cluster(image_path, k = 5):\n",
    "    image = cv2.imread(image_path)\n",
    "    # image의 shape을 찍어보면, height, width, channel 순으로 나옴\n",
    "    # channel은 RGB를 말함\n",
    "    image = cv2.cvtColor(image, cv2.COLOR_BGR2RGB)\n",
    "    # cv에서는 RGB가 아닌 BGR 순으로 나오기 때문에 순서를 RGB로 전환\n",
    "    image = image.reshape((image.shape[0] * image.shape[1], 3))\n",
    "    # shape의 0,1번째 즉, height와 width를 통합시킴\n",
    "    \n",
    "    clt = KMeans(n_clusters = k)  # 평균 알고리즘 KMeans\n",
    "    clt.fit(image)\n",
    "\n",
    "    hist = centroid_histogram(clt)\n",
    "    bar = plot_colors(hist, clt.cluster_centers_)\n",
    "    return bar"
   ]
  },
  {
   "cell_type": "code",
   "execution_count": 6,
   "metadata": {},
   "outputs": [],
   "source": [
    "def dec_to_hex(color):\n",
    "    if color < 16:\n",
    "        return '0' + str(hex(int(color)).split('x')[1])\n",
    "    else:\n",
    "        return str(hex(int(color)).split('x')[1])"
   ]
  },
  {
   "cell_type": "code",
   "execution_count": 36,
   "metadata": {},
   "outputs": [],
   "source": [
    "def read_real_color(filename, color_rank):\n",
    "    image = cv2.imread(filename, cv2.IMREAD_COLOR)\n",
    "    image = cv2.cvtColor(image, cv2.COLOR_BGR2RGB)\n",
    "    \n",
    "    image_list = [str(list(image[i][k])) for i in range(len(image)) for k in range(len(image[0]))]\n",
    "    image_unique = {}\n",
    "    for d in image_list:\n",
    "        if d not in image_unique:\n",
    "            image_unique[d] = 1\n",
    "        else:\n",
    "            image_unique[d] += 1\n",
    "\n",
    "    total_color_lists = sorted(image_unique.keys(), key=lambda x:image_unique[x], reverse=True)\n",
    "    color_list = total_color_lists[color_rank]\n",
    "    \n",
    "    color_R = int(color_list.split('[')[1].split(']')[0].split(', ')[0])\n",
    "    color_G = int(color_list.split('[')[1].split(']')[0].split(', ')[1])\n",
    "    color_B = int(color_list.split('[')[1].split(']')[0].split(', ')[2])\n",
    "    \n",
    "    color_R = dec_to_hex(color_R)\n",
    "    color_G = dec_to_hex(color_G)\n",
    "    color_B = dec_to_hex(color_B)\n",
    "    \n",
    "    return str(color_R + color_G + color_B)"
   ]
  },
  {
   "cell_type": "code",
   "execution_count": 9,
   "metadata": {},
   "outputs": [],
   "source": [
    "df_cafe = pd.read_csv('final_cafe_info_with_path.csv')\n",
    "# df_cafe.head()"
   ]
  },
  {
   "cell_type": "code",
   "execution_count": 10,
   "metadata": {},
   "outputs": [
    {
     "data": {
      "text/html": [
       "<div>\n",
       "<style scoped>\n",
       "    .dataframe tbody tr th:only-of-type {\n",
       "        vertical-align: middle;\n",
       "    }\n",
       "\n",
       "    .dataframe tbody tr th {\n",
       "        vertical-align: top;\n",
       "    }\n",
       "\n",
       "    .dataframe thead th {\n",
       "        text-align: right;\n",
       "    }\n",
       "</style>\n",
       "<table border=\"1\" class=\"dataframe\">\n",
       "  <thead>\n",
       "    <tr style=\"text-align: right;\">\n",
       "      <th></th>\n",
       "      <th>지역</th>\n",
       "      <th>지역구</th>\n",
       "      <th>카페명</th>\n",
       "      <th>주소</th>\n",
       "      <th>위도</th>\n",
       "      <th>경도</th>\n",
       "      <th>파일명</th>\n",
       "    </tr>\n",
       "  </thead>\n",
       "  <tbody>\n",
       "    <tr>\n",
       "      <th>0</th>\n",
       "      <td>서서울</td>\n",
       "      <td>은평</td>\n",
       "      <td>스모어</td>\n",
       "      <td>서울 은평구 연서로29길 8-8</td>\n",
       "      <td>37.618952</td>\n",
       "      <td>126.919697</td>\n",
       "      <td>ws_ep_01.png</td>\n",
       "    </tr>\n",
       "    <tr>\n",
       "      <th>1</th>\n",
       "      <td>서서울</td>\n",
       "      <td>은평</td>\n",
       "      <td>필라멘트카페</td>\n",
       "      <td>서울 은평구 통일로 883</td>\n",
       "      <td>37.621753</td>\n",
       "      <td>126.919462</td>\n",
       "      <td>ws_ep_02.png</td>\n",
       "    </tr>\n",
       "    <tr>\n",
       "      <th>2</th>\n",
       "      <td>서서울</td>\n",
       "      <td>은평</td>\n",
       "      <td>HUGA</td>\n",
       "      <td>서울 은평구 진관2로 19</td>\n",
       "      <td>37.634753</td>\n",
       "      <td>126.919774</td>\n",
       "      <td>ws_ep_03.png</td>\n",
       "    </tr>\n",
       "    <tr>\n",
       "      <th>3</th>\n",
       "      <td>서서울</td>\n",
       "      <td>은평</td>\n",
       "      <td>YM Coffee Project</td>\n",
       "      <td>서울 은평구 연서로29길 21-8</td>\n",
       "      <td>37.619095</td>\n",
       "      <td>126.917542</td>\n",
       "      <td>ws_ep_04.png</td>\n",
       "    </tr>\n",
       "    <tr>\n",
       "      <th>4</th>\n",
       "      <td>서서울</td>\n",
       "      <td>은평</td>\n",
       "      <td>카페달력</td>\n",
       "      <td>서울 은평구 연서로18길 28-2</td>\n",
       "      <td>37.611930</td>\n",
       "      <td>126.920534</td>\n",
       "      <td>ws_ep_05.png</td>\n",
       "    </tr>\n",
       "  </tbody>\n",
       "</table>\n",
       "</div>"
      ],
      "text/plain": [
       "    지역 지역구                카페명                  주소         위도          경도  \\\n",
       "0  서서울  은평                스모어   서울 은평구 연서로29길 8-8  37.618952  126.919697   \n",
       "1  서서울  은평             필라멘트카페      서울 은평구 통일로 883  37.621753  126.919462   \n",
       "2  서서울  은평               HUGA      서울 은평구 진관2로 19  37.634753  126.919774   \n",
       "3  서서울  은평  YM Coffee Project  서울 은평구 연서로29길 21-8  37.619095  126.917542   \n",
       "4  서서울  은평               카페달력  서울 은평구 연서로18길 28-2  37.611930  126.920534   \n",
       "\n",
       "            파일명  \n",
       "0  ws_ep_01.png  \n",
       "1  ws_ep_02.png  \n",
       "2  ws_ep_03.png  \n",
       "3  ws_ep_04.png  \n",
       "4  ws_ep_05.png  "
      ]
     },
     "execution_count": 10,
     "metadata": {},
     "output_type": "execute_result"
    }
   ],
   "source": [
    "df_cafe = df_cafe.drop('Unnamed: 0', axis=1)\n",
    "df_cafe.head()"
   ]
  },
  {
   "cell_type": "code",
   "execution_count": 44,
   "metadata": {},
   "outputs": [],
   "source": [
    "for i in range(5):\n",
    "    color_list = []\n",
    "    for n in df_cafe.index:\n",
    "        png = './cafe_color_result/' + df_cafe['파일명'][n]\n",
    "        color_list.append(read_real_color(png, i))\n",
    "    col_name = str(i+1) + '번 색'\n",
    "    df_cafe[col_name] = color_list"
   ]
  },
  {
   "cell_type": "code",
   "execution_count": 48,
   "metadata": {},
   "outputs": [
    {
     "data": {
      "text/html": [
       "<div>\n",
       "<style scoped>\n",
       "    .dataframe tbody tr th:only-of-type {\n",
       "        vertical-align: middle;\n",
       "    }\n",
       "\n",
       "    .dataframe tbody tr th {\n",
       "        vertical-align: top;\n",
       "    }\n",
       "\n",
       "    .dataframe thead th {\n",
       "        text-align: right;\n",
       "    }\n",
       "</style>\n",
       "<table border=\"1\" class=\"dataframe\">\n",
       "  <thead>\n",
       "    <tr style=\"text-align: right;\">\n",
       "      <th></th>\n",
       "      <th>지역</th>\n",
       "      <th>지역구</th>\n",
       "      <th>카페명</th>\n",
       "      <th>주소</th>\n",
       "      <th>위도</th>\n",
       "      <th>경도</th>\n",
       "      <th>파일명</th>\n",
       "      <th>1번 색</th>\n",
       "      <th>2번 색</th>\n",
       "      <th>3번 색</th>\n",
       "      <th>4번 색</th>\n",
       "      <th>5번 색</th>\n",
       "    </tr>\n",
       "  </thead>\n",
       "  <tbody>\n",
       "    <tr>\n",
       "      <th>0</th>\n",
       "      <td>서서울</td>\n",
       "      <td>은평</td>\n",
       "      <td>스모어</td>\n",
       "      <td>서울 은평구 연서로29길 8-8</td>\n",
       "      <td>37.618952</td>\n",
       "      <td>126.919697</td>\n",
       "      <td>ws_ep_01.png</td>\n",
       "      <td>dbd6cc</td>\n",
       "      <td>c7b29a</td>\n",
       "      <td>231a14</td>\n",
       "      <td>ab8f73</td>\n",
       "      <td>644f3f</td>\n",
       "    </tr>\n",
       "    <tr>\n",
       "      <th>1</th>\n",
       "      <td>서서울</td>\n",
       "      <td>은평</td>\n",
       "      <td>필라멘트카페</td>\n",
       "      <td>서울 은평구 통일로 883</td>\n",
       "      <td>37.621753</td>\n",
       "      <td>126.919462</td>\n",
       "      <td>ws_ep_02.png</td>\n",
       "      <td>201d1e</td>\n",
       "      <td>9d7653</td>\n",
       "      <td>5f4939</td>\n",
       "      <td>cead7d</td>\n",
       "      <td>e7e4cf</td>\n",
       "    </tr>\n",
       "    <tr>\n",
       "      <th>2</th>\n",
       "      <td>서서울</td>\n",
       "      <td>은평</td>\n",
       "      <td>HUGA</td>\n",
       "      <td>서울 은평구 진관2로 19</td>\n",
       "      <td>37.634753</td>\n",
       "      <td>126.919774</td>\n",
       "      <td>ws_ep_03.png</td>\n",
       "      <td>36a17c</td>\n",
       "      <td>8ebda8</td>\n",
       "      <td>e5e7df</td>\n",
       "      <td>6f6c49</td>\n",
       "      <td>272b15</td>\n",
       "    </tr>\n",
       "    <tr>\n",
       "      <th>3</th>\n",
       "      <td>서서울</td>\n",
       "      <td>은평</td>\n",
       "      <td>YM Coffee Project</td>\n",
       "      <td>서울 은평구 연서로29길 21-8</td>\n",
       "      <td>37.619095</td>\n",
       "      <td>126.917542</td>\n",
       "      <td>ws_ep_04.png</td>\n",
       "      <td>cab9ab</td>\n",
       "      <td>e9dfd8</td>\n",
       "      <td>403126</td>\n",
       "      <td>af8b6d</td>\n",
       "      <td>84634c</td>\n",
       "    </tr>\n",
       "    <tr>\n",
       "      <th>4</th>\n",
       "      <td>서서울</td>\n",
       "      <td>은평</td>\n",
       "      <td>카페달력</td>\n",
       "      <td>서울 은평구 연서로18길 28-2</td>\n",
       "      <td>37.611930</td>\n",
       "      <td>126.920534</td>\n",
       "      <td>ws_ep_05.png</td>\n",
       "      <td>e8ddd1</td>\n",
       "      <td>d3c0af</td>\n",
       "      <td>b19c89</td>\n",
       "      <td>5a432c</td>\n",
       "      <td>917457</td>\n",
       "    </tr>\n",
       "  </tbody>\n",
       "</table>\n",
       "</div>"
      ],
      "text/plain": [
       "    지역 지역구                카페명                  주소         위도          경도  \\\n",
       "0  서서울  은평                스모어   서울 은평구 연서로29길 8-8  37.618952  126.919697   \n",
       "1  서서울  은평             필라멘트카페      서울 은평구 통일로 883  37.621753  126.919462   \n",
       "2  서서울  은평               HUGA      서울 은평구 진관2로 19  37.634753  126.919774   \n",
       "3  서서울  은평  YM Coffee Project  서울 은평구 연서로29길 21-8  37.619095  126.917542   \n",
       "4  서서울  은평               카페달력  서울 은평구 연서로18길 28-2  37.611930  126.920534   \n",
       "\n",
       "            파일명    1번 색    2번 색    3번 색    4번 색    5번 색  \n",
       "0  ws_ep_01.png  dbd6cc  c7b29a  231a14  ab8f73  644f3f  \n",
       "1  ws_ep_02.png  201d1e  9d7653  5f4939  cead7d  e7e4cf  \n",
       "2  ws_ep_03.png  36a17c  8ebda8  e5e7df  6f6c49  272b15  \n",
       "3  ws_ep_04.png  cab9ab  e9dfd8  403126  af8b6d  84634c  \n",
       "4  ws_ep_05.png  e8ddd1  d3c0af  b19c89  5a432c  917457  "
      ]
     },
     "execution_count": 48,
     "metadata": {},
     "output_type": "execute_result"
    }
   ],
   "source": [
    "df_cafe.head()"
   ]
  },
  {
   "cell_type": "code",
   "execution_count": 49,
   "metadata": {},
   "outputs": [],
   "source": [
    "df_cafe.to_csv('cafe_color_tidy_data.csv')"
   ]
  },
  {
   "cell_type": "code",
   "execution_count": 5,
   "metadata": {},
   "outputs": [
    {
     "data": {
      "text/html": [
       "<div>\n",
       "<style scoped>\n",
       "    .dataframe tbody tr th:only-of-type {\n",
       "        vertical-align: middle;\n",
       "    }\n",
       "\n",
       "    .dataframe tbody tr th {\n",
       "        vertical-align: top;\n",
       "    }\n",
       "\n",
       "    .dataframe thead th {\n",
       "        text-align: right;\n",
       "    }\n",
       "</style>\n",
       "<table border=\"1\" class=\"dataframe\">\n",
       "  <thead>\n",
       "    <tr style=\"text-align: right;\">\n",
       "      <th></th>\n",
       "      <th>지역</th>\n",
       "      <th>지역구</th>\n",
       "      <th>카페명</th>\n",
       "      <th>주소</th>\n",
       "      <th>위도</th>\n",
       "      <th>경도</th>\n",
       "      <th>파일명</th>\n",
       "      <th>1번 색</th>\n",
       "      <th>2번 색</th>\n",
       "      <th>3번 색</th>\n",
       "      <th>4번 색</th>\n",
       "      <th>5번 색</th>\n",
       "    </tr>\n",
       "  </thead>\n",
       "  <tbody>\n",
       "    <tr>\n",
       "      <th>0</th>\n",
       "      <td>서서울</td>\n",
       "      <td>은평</td>\n",
       "      <td>스모어</td>\n",
       "      <td>서울 은평구 연서로29길 8-8</td>\n",
       "      <td>37.618952</td>\n",
       "      <td>126.919697</td>\n",
       "      <td>ws_ep_01.png</td>\n",
       "      <td>dbd6cc</td>\n",
       "      <td>c7b29a</td>\n",
       "      <td>231a14</td>\n",
       "      <td>ab8f73</td>\n",
       "      <td>644f3f</td>\n",
       "    </tr>\n",
       "    <tr>\n",
       "      <th>1</th>\n",
       "      <td>서서울</td>\n",
       "      <td>은평</td>\n",
       "      <td>필라멘트카페</td>\n",
       "      <td>서울 은평구 통일로 883</td>\n",
       "      <td>37.621753</td>\n",
       "      <td>126.919462</td>\n",
       "      <td>ws_ep_02.png</td>\n",
       "      <td>201d1e</td>\n",
       "      <td>9d7653</td>\n",
       "      <td>5f4939</td>\n",
       "      <td>cead7d</td>\n",
       "      <td>e7e4cf</td>\n",
       "    </tr>\n",
       "    <tr>\n",
       "      <th>2</th>\n",
       "      <td>서서울</td>\n",
       "      <td>은평</td>\n",
       "      <td>HUGA</td>\n",
       "      <td>서울 은평구 진관2로 19</td>\n",
       "      <td>37.634753</td>\n",
       "      <td>126.919774</td>\n",
       "      <td>ws_ep_03.png</td>\n",
       "      <td>36a17c</td>\n",
       "      <td>8ebda8</td>\n",
       "      <td>e5e7df</td>\n",
       "      <td>6f6c49</td>\n",
       "      <td>272b15</td>\n",
       "    </tr>\n",
       "    <tr>\n",
       "      <th>3</th>\n",
       "      <td>서서울</td>\n",
       "      <td>은평</td>\n",
       "      <td>YM Coffee Project</td>\n",
       "      <td>서울 은평구 연서로29길 21-8</td>\n",
       "      <td>37.619095</td>\n",
       "      <td>126.917542</td>\n",
       "      <td>ws_ep_04.png</td>\n",
       "      <td>cab9ab</td>\n",
       "      <td>e9dfd8</td>\n",
       "      <td>403126</td>\n",
       "      <td>af8b6d</td>\n",
       "      <td>84634c</td>\n",
       "    </tr>\n",
       "    <tr>\n",
       "      <th>4</th>\n",
       "      <td>서서울</td>\n",
       "      <td>은평</td>\n",
       "      <td>카페달력</td>\n",
       "      <td>서울 은평구 연서로18길 28-2</td>\n",
       "      <td>37.611930</td>\n",
       "      <td>126.920534</td>\n",
       "      <td>ws_ep_05.png</td>\n",
       "      <td>e8ddd1</td>\n",
       "      <td>d3c0af</td>\n",
       "      <td>b19c89</td>\n",
       "      <td>5a432c</td>\n",
       "      <td>917457</td>\n",
       "    </tr>\n",
       "  </tbody>\n",
       "</table>\n",
       "</div>"
      ],
      "text/plain": [
       "    지역 지역구                카페명                  주소         위도          경도  \\\n",
       "0  서서울  은평                스모어   서울 은평구 연서로29길 8-8  37.618952  126.919697   \n",
       "1  서서울  은평             필라멘트카페      서울 은평구 통일로 883  37.621753  126.919462   \n",
       "2  서서울  은평               HUGA      서울 은평구 진관2로 19  37.634753  126.919774   \n",
       "3  서서울  은평  YM Coffee Project  서울 은평구 연서로29길 21-8  37.619095  126.917542   \n",
       "4  서서울  은평               카페달력  서울 은평구 연서로18길 28-2  37.611930  126.920534   \n",
       "\n",
       "            파일명    1번 색    2번 색    3번 색    4번 색    5번 색  \n",
       "0  ws_ep_01.png  dbd6cc  c7b29a  231a14  ab8f73  644f3f  \n",
       "1  ws_ep_02.png  201d1e  9d7653  5f4939  cead7d  e7e4cf  \n",
       "2  ws_ep_03.png  36a17c  8ebda8  e5e7df  6f6c49  272b15  \n",
       "3  ws_ep_04.png  cab9ab  e9dfd8  403126  af8b6d  84634c  \n",
       "4  ws_ep_05.png  e8ddd1  d3c0af  b19c89  5a432c  917457  "
      ]
     },
     "execution_count": 5,
     "metadata": {},
     "output_type": "execute_result"
    }
   ],
   "source": [
    "df = pd.read_csv('final_cafe_color_tidy_data.csv')\n",
    "df.head()"
   ]
  },
  {
   "cell_type": "code",
   "execution_count": 12,
   "metadata": {},
   "outputs": [
    {
     "data": {
      "text/plain": [
       "20"
      ]
     },
     "execution_count": 12,
     "metadata": {},
     "output_type": "execute_result"
    }
   ],
   "source": [
    "colors = 'red,red_orange,orange,orange_yellow,yellow,yellow_lime,lime,lime_green,green,green_skyblue,skyblue,skyblue_blue,blue,blue_navy,navy,navy_purple,purple,purple_pink,pink,pink_red'.split(',')\n",
    "len(colors)"
   ]
  },
  {
   "cell_type": "code",
   "execution_count": 19,
   "metadata": {},
   "outputs": [
    {
     "data": {
      "text/plain": [
       "20"
      ]
     },
     "execution_count": 19,
     "metadata": {},
     "output_type": "execute_result"
    }
   ],
   "source": [
    "rgbs = list(['ff','00','00'],['fc','47','00'],['fc','66','00'],['fc','cc','00'],\\\n",
    "['ff','ff','00'],['cc','ff','66'],['7d','cd','00'],['36','b7','00'],\\\n",
    "['00','99','00'],['00','80','80'],['00','66','66'],['00','92','97'],['06','11','f2'],\\\n",
    "['00','3a','9a'],['00','00','7e'],['4d','00','9a'],['80','00','7f'],['77','00','55'],\\\n",
    "['e8','00','74'],['ff','00','66'])\n",
    "len(rgbs)"
   ]
  },
  {
   "cell_type": "code",
   "execution_count": 21,
   "metadata": {},
   "outputs": [
    {
     "data": {
      "text/plain": [
       "{'red': ['ff', '00', '00'],\n",
       " 'red_orange': ['fc', '47', '00'],\n",
       " 'orange': ['fc', '66', '00'],\n",
       " 'orange_yellow': ['fc', 'cc', '00'],\n",
       " 'yellow': ['ff', 'ff', '00'],\n",
       " 'yellow_lime': ['cc', 'ff', '66'],\n",
       " 'lime': ['7d', 'cd', '00'],\n",
       " 'lime_green': ['36', 'b7', '00'],\n",
       " 'green': ['00', '99', '00'],\n",
       " 'green_skyblue': ['00', '80', '80'],\n",
       " 'skyblue': ['00', '66', '66'],\n",
       " 'skyblue_blue': ['00', '92', '97'],\n",
       " 'blue': ['06', '11', 'f2'],\n",
       " 'blue_navy': ['00', '3a', '9a'],\n",
       " 'navy': ['00', '00', '7e'],\n",
       " 'navy_purple': ['4d', '00', '9a'],\n",
       " 'purple': ['80', '00', '7f'],\n",
       " 'purple_pink': ['77', '00', '55'],\n",
       " 'pink': ['e8', '00', '74'],\n",
       " 'pink_red': ['ff', '00', '66']}"
      ]
     },
     "execution_count": 21,
     "metadata": {},
     "output_type": "execute_result"
    }
   ],
   "source": [
    "color_dict = dict()\n",
    "for color, rgb in zip(colors, rgbs):\n",
    "    color_dict[color] = rgb\n",
    "color_dict"
   ]
  },
  {
   "cell_type": "code",
   "execution_count": 29,
   "metadata": {},
   "outputs": [
    {
     "data": {
      "text/plain": [
       "[('green', ['00', '99', '00']),\n",
       " ('green_skyblue', ['00', '80', '80']),\n",
       " ('skyblue', ['00', '66', '66']),\n",
       " ('skyblue_blue', ['00', '92', '97']),\n",
       " ('blue_navy', ['00', '3a', '9a']),\n",
       " ('navy', ['00', '00', '7e']),\n",
       " ('blue', ['06', '11', 'f2']),\n",
       " ('lime_green', ['36', 'b7', '00']),\n",
       " ('navy_purple', ['4d', '00', '9a']),\n",
       " ('purple_pink', ['77', '00', '55']),\n",
       " ('lime', ['7d', 'cd', '00']),\n",
       " ('purple', ['80', '00', '7f']),\n",
       " ('yellow_lime', ['cc', 'ff', '66']),\n",
       " ('pink', ['e8', '00', '74']),\n",
       " ('red_orange', ['fc', '47', '00']),\n",
       " ('orange', ['fc', '66', '00']),\n",
       " ('orange_yellow', ['fc', 'cc', '00']),\n",
       " ('red', ['ff', '00', '00']),\n",
       " ('yellow', ['ff', 'ff', '00']),\n",
       " ('pink_red', ['ff', '00', '66'])]"
      ]
     },
     "execution_count": 29,
     "metadata": {},
     "output_type": "execute_result"
    }
   ],
   "source": [
    "temp = sorted(color_dict.items(), key=lambda x:x[1][0])\n",
    "temp"
   ]
  },
  {
   "cell_type": "code",
   "execution_count": 36,
   "metadata": {},
   "outputs": [
    {
     "data": {
      "text/plain": [
       "[('navy', ['00', '00', '7e']),\n",
       " ('navy_purple', ['4d', '00', '9a']),\n",
       " ('purple_pink', ['77', '00', '55']),\n",
       " ('purple', ['80', '00', '7f']),\n",
       " ('pink', ['e8', '00', '74']),\n",
       " ('red', ['ff', '00', '00']),\n",
       " ('pink_red', ['ff', '00', '66']),\n",
       " ('blue', ['06', '11', 'f2']),\n",
       " ('blue_navy', ['00', '3a', '9a']),\n",
       " ('red_orange', ['fc', '47', '00']),\n",
       " ('skyblue', ['00', '66', '66']),\n",
       " ('orange', ['fc', '66', '00']),\n",
       " ('green_skyblue', ['00', '80', '80']),\n",
       " ('skyblue_blue', ['00', '92', '97']),\n",
       " ('green', ['00', '99', '00']),\n",
       " ('lime_green', ['36', 'b7', '00']),\n",
       " ('orange_yellow', ['fc', 'cc', '00']),\n",
       " ('lime', ['7d', 'cd', '00']),\n",
       " ('yellow_lime', ['cc', 'ff', '66']),\n",
       " ('yellow', ['ff', 'ff', '00'])]"
      ]
     },
     "execution_count": 36,
     "metadata": {},
     "output_type": "execute_result"
    }
   ],
   "source": [
    "result = sorted(temp, key=lambda x:x[1][1])\n",
    "result"
   ]
  },
  {
   "cell_type": "code",
   "execution_count": 37,
   "metadata": {},
   "outputs": [
    {
     "name": "stdout",
     "output_type": "stream",
     "text": [
      "['00', '00', '7e']\n",
      "['4d', '00', '9a']\n",
      "['77', '00', '55']\n",
      "['80', '00', '7f']\n",
      "['e8', '00', '74']\n",
      "['ff', '00', '00']\n",
      "['ff', '00', '66']\n",
      "['06', '11', 'f2']\n",
      "['00', '3a', '9a']\n",
      "['fc', '47', '00']\n",
      "['00', '66', '66']\n",
      "['fc', '66', '00']\n",
      "['00', '80', '80']\n",
      "['00', '92', '97']\n",
      "['00', '99', '00']\n",
      "['36', 'b7', '00']\n",
      "['fc', 'cc', '00']\n",
      "['7d', 'cd', '00']\n",
      "['cc', 'ff', '66']\n",
      "['ff', 'ff', '00']\n"
     ]
    }
   ],
   "source": [
    "for i in range(len(result)):\n",
    "    print(result[i][1])"
   ]
  },
  {
   "cell_type": "code",
   "execution_count": 43,
   "metadata": {},
   "outputs": [
    {
     "data": {
      "text/plain": [
       "[16711680,\n",
       " 16533248,\n",
       " 16541184,\n",
       " 16567296,\n",
       " 16776960,\n",
       " 13434726,\n",
       " 8244480,\n",
       " 3585792,\n",
       " 39168,\n",
       " 32896,\n",
       " 26214,\n",
       " 37527,\n",
       " 397810,\n",
       " 15002,\n",
       " 126,\n",
       " 5046426,\n",
       " 8388735,\n",
       " 7798869,\n",
       " 15204468,\n",
       " 16711782]"
      ]
     },
     "execution_count": 43,
     "metadata": {},
     "output_type": "execute_result"
    }
   ],
   "source": [
    "r = list()\n",
    "for rgb in rgbs:\n",
    "    s = ''\n",
    "    for i in range(3):\n",
    "        s += rgb[i]\n",
    "    r.append(int(f'{s}', 16))\n",
    "r"
   ]
  },
  {
   "cell_type": "code",
   "execution_count": 44,
   "metadata": {},
   "outputs": [
    {
     "data": {
      "text/plain": [
       "['ff0000',\n",
       " 'fc4700',\n",
       " 'fc6600',\n",
       " 'fccc00',\n",
       " 'ffff00',\n",
       " 'ccff66',\n",
       " '7dcd00',\n",
       " '36b700',\n",
       " '009900',\n",
       " '008080',\n",
       " '006666',\n",
       " '009297',\n",
       " '0611f2',\n",
       " '003a9a',\n",
       " '00007e',\n",
       " '4d009a',\n",
       " '80007f',\n",
       " '770055',\n",
       " 'e80074',\n",
       " 'ff0066']"
      ]
     },
     "execution_count": 44,
     "metadata": {},
     "output_type": "execute_result"
    }
   ],
   "source": [
    "o = list()\n",
    "for rgb in rgbs:\n",
    "    s = ''\n",
    "    for i in range(3):\n",
    "        s += rgb[i]\n",
    "    o.append(s)\n",
    "o"
   ]
  },
  {
   "cell_type": "code",
   "execution_count": 45,
   "metadata": {},
   "outputs": [
    {
     "data": {
      "text/plain": [
       "['red',\n",
       " 'red_orange',\n",
       " 'orange',\n",
       " 'orange_yellow',\n",
       " 'yellow',\n",
       " 'yellow_lime',\n",
       " 'lime',\n",
       " 'lime_green',\n",
       " 'green',\n",
       " 'green_skyblue',\n",
       " 'skyblue',\n",
       " 'skyblue_blue',\n",
       " 'blue',\n",
       " 'blue_navy',\n",
       " 'navy',\n",
       " 'navy_purple',\n",
       " 'purple',\n",
       " 'purple_pink',\n",
       " 'pink',\n",
       " 'pink_red']"
      ]
     },
     "execution_count": 45,
     "metadata": {},
     "output_type": "execute_result"
    }
   ],
   "source": [
    "colors"
   ]
  },
  {
   "cell_type": "code",
   "execution_count": 47,
   "metadata": {},
   "outputs": [
    {
     "data": {
      "text/plain": [
       "{'red': 16711680,\n",
       " 'red_orange': 16533248,\n",
       " 'orange': 16541184,\n",
       " 'orange_yellow': 16567296,\n",
       " 'yellow': 16776960,\n",
       " 'yellow_lime': 13434726,\n",
       " 'lime': 8244480,\n",
       " 'lime_green': 3585792,\n",
       " 'green': 39168,\n",
       " 'green_skyblue': 32896,\n",
       " 'skyblue': 26214,\n",
       " 'skyblue_blue': 37527,\n",
       " 'blue': 397810,\n",
       " 'blue_navy': 15002,\n",
       " 'navy': 126,\n",
       " 'navy_purple': 5046426,\n",
       " 'purple': 8388735,\n",
       " 'purple_pink': 7798869,\n",
       " 'pink': 15204468,\n",
       " 'pink_red': 16711782}"
      ]
     },
     "execution_count": 47,
     "metadata": {},
     "output_type": "execute_result"
    }
   ],
   "source": [
    "result = dict()\n",
    "for color, num in zip(colors, r):\n",
    "    result[color] = num\n",
    "result"
   ]
  },
  {
   "cell_type": "code",
   "execution_count": 49,
   "metadata": {},
   "outputs": [
    {
     "data": {
      "text/plain": [
       "[('navy', 126),\n",
       " ('blue_navy', 15002),\n",
       " ('skyblue', 26214),\n",
       " ('green_skyblue', 32896),\n",
       " ('skyblue_blue', 37527),\n",
       " ('green', 39168),\n",
       " ('blue', 397810),\n",
       " ('lime_green', 3585792),\n",
       " ('navy_purple', 5046426),\n",
       " ('purple_pink', 7798869),\n",
       " ('lime', 8244480),\n",
       " ('purple', 8388735),\n",
       " ('yellow_lime', 13434726),\n",
       " ('pink', 15204468),\n",
       " ('red_orange', 16533248),\n",
       " ('orange', 16541184),\n",
       " ('orange_yellow', 16567296),\n",
       " ('red', 16711680),\n",
       " ('pink_red', 16711782),\n",
       " ('yellow', 16776960)]"
      ]
     },
     "execution_count": 49,
     "metadata": {},
     "output_type": "execute_result"
    }
   ],
   "source": [
    "color_ranges = sorted(result.items(), key=lambda x:x[1])\n",
    "color_ranges"
   ]
  },
  {
   "cell_type": "code",
   "execution_count": 53,
   "metadata": {},
   "outputs": [
    {
     "data": {
      "text/plain": [
       "[126,\n",
       " 15002,\n",
       " 26214,\n",
       " 32896,\n",
       " 37527,\n",
       " 39168,\n",
       " 397810,\n",
       " 3585792,\n",
       " 5046426,\n",
       " 7798869,\n",
       " 8244480,\n",
       " 8388735,\n",
       " 13434726,\n",
       " 15204468,\n",
       " 16533248,\n",
       " 16541184,\n",
       " 16567296,\n",
       " 16711680,\n",
       " 16711782,\n",
       " 16776960,\n",
       " 16777215]"
      ]
     },
     "execution_count": 53,
     "metadata": {},
     "output_type": "execute_result"
    }
   ],
   "source": [
    "range_num = [c[1] for c in color_ranges]\n",
    "range_num.append(int('FFFFFF', 16))\n",
    "range_num"
   ]
  },
  {
   "cell_type": "code",
   "execution_count": 55,
   "metadata": {},
   "outputs": [
    {
     "data": {
      "text/plain": [
       "(21, 20)"
      ]
     },
     "execution_count": 55,
     "metadata": {},
     "output_type": "execute_result"
    }
   ],
   "source": [
    "len(range_num), len(colors)"
   ]
  },
  {
   "cell_type": "code",
   "execution_count": 60,
   "metadata": {},
   "outputs": [
    {
     "data": {
      "text/plain": [
       "0      14407372\n",
       "1       2104606\n",
       "2       3580284\n",
       "3      13285803\n",
       "4      15261137\n",
       "5      10653830\n",
       "6       6638906\n",
       "7       9531981\n",
       "8       7821637\n",
       "9       3284753\n",
       "10     14737118\n",
       "11     11642522\n",
       "12     12696233\n",
       "13      1117707\n",
       "14      9802911\n",
       "15      2170395\n",
       "16     13618634\n",
       "17     14671829\n",
       "18     13746347\n",
       "19     14802648\n",
       "20      8878178\n",
       "21      3287071\n",
       "22     13414777\n",
       "23      1840914\n",
       "24     10385475\n",
       "25      9206637\n",
       "26      7687207\n",
       "27      3153177\n",
       "28     11907755\n",
       "29     13615015\n",
       "         ...   \n",
       "295     5394768\n",
       "296     3354410\n",
       "297     2432789\n",
       "298     1117197\n",
       "299     3220753\n",
       "300     2106922\n",
       "301     2758151\n",
       "302     6050372\n",
       "303     9011571\n",
       "304     8082746\n",
       "305     6511440\n",
       "306    14276307\n",
       "307     4537910\n",
       "308     7620904\n",
       "309     6049089\n",
       "310     3223321\n",
       "311     9936541\n",
       "312    16054007\n",
       "313     8680025\n",
       "314     6447703\n",
       "315     8421221\n",
       "316     5193785\n",
       "317     2627603\n",
       "318    10922402\n",
       "319    11514029\n",
       "320     5520689\n",
       "321    11643296\n",
       "322     2759438\n",
       "323    13021080\n",
       "324     8485235\n",
       "Name: 1번 색, Length: 325, dtype: int64"
      ]
     },
     "execution_count": 60,
     "metadata": {},
     "output_type": "execute_result"
    }
   ],
   "source": [
    "df['1번 색'].apply(lambda x: int(x,16))"
   ]
  },
  {
   "cell_type": "code",
   "execution_count": 61,
   "metadata": {},
   "outputs": [
    {
     "data": {
      "text/plain": [
       "0               blue\n",
       "1               lime\n",
       "2               lime\n",
       "3       skyblue_blue\n",
       "4          blue_navy\n",
       "5       skyblue_blue\n",
       "6              green\n",
       "7       skyblue_blue\n",
       "8      green_skyblue\n",
       "9               lime\n",
       "10              blue\n",
       "11      skyblue_blue\n",
       "12      skyblue_blue\n",
       "13              lime\n",
       "14      skyblue_blue\n",
       "15              lime\n",
       "16              blue\n",
       "17              blue\n",
       "18              blue\n",
       "19              blue\n",
       "20      skyblue_blue\n",
       "21              lime\n",
       "22      skyblue_blue\n",
       "23              lime\n",
       "24      skyblue_blue\n",
       "25      skyblue_blue\n",
       "26             green\n",
       "27              lime\n",
       "28      skyblue_blue\n",
       "29              blue\n",
       "           ...      \n",
       "295            green\n",
       "296             lime\n",
       "297             lime\n",
       "298             lime\n",
       "299             lime\n",
       "300             lime\n",
       "301             lime\n",
       "302            green\n",
       "303     skyblue_blue\n",
       "304    green_skyblue\n",
       "305            green\n",
       "306             blue\n",
       "307       lime_green\n",
       "308            green\n",
       "309            green\n",
       "310             lime\n",
       "311     skyblue_blue\n",
       "312        blue_navy\n",
       "313     skyblue_blue\n",
       "314            green\n",
       "315     skyblue_blue\n",
       "316            green\n",
       "317             lime\n",
       "318     skyblue_blue\n",
       "319     skyblue_blue\n",
       "320            green\n",
       "321     skyblue_blue\n",
       "322             lime\n",
       "323     skyblue_blue\n",
       "324     skyblue_blue\n",
       "Name: 1번 색, Length: 325, dtype: category\n",
       "Categories (20, object): [red < red_orange < orange < orange_yellow ... purple < purple_pink < pink < pink_red]"
      ]
     },
     "execution_count": 61,
     "metadata": {},
     "output_type": "execute_result"
    }
   ],
   "source": [
    "pd.cut(df['1번 색'].apply(lambda x: int(x,16)), range_num, labels=colors)"
   ]
  },
  {
   "cell_type": "code",
   "execution_count": null,
   "metadata": {},
   "outputs": [],
   "source": []
  }
 ],
 "metadata": {
  "kernelspec": {
   "display_name": "Python 3",
   "language": "python",
   "name": "python3"
  },
  "language_info": {
   "codemirror_mode": {
    "name": "ipython",
    "version": 3
   },
   "file_extension": ".py",
   "mimetype": "text/x-python",
   "name": "python",
   "nbconvert_exporter": "python",
   "pygments_lexer": "ipython3",
   "version": "3.6.5"
  }
 },
 "nbformat": 4,
 "nbformat_minor": 2
}
